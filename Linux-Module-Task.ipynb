{
  "nbformat": 4,
  "nbformat_minor": 0,
  "metadata": {
    "colab": {
      "provenance": []
    },
    "kernelspec": {
      "name": "python3",
      "display_name": "Python 3"
    },
    "language_info": {
      "name": "python"
    }
  },
  "cells": [
    {
      "cell_type": "code",
      "execution_count": null,
      "metadata": {
        "id": "b5cWH-OTS8z9"
      },
      "outputs": [],
      "source": [
        "#!pip install bash_kernel\n",
        "#!python -m bash_kernel.install"
      ]
    },
    {
      "cell_type": "code",
      "source": [
        "#!sudo apt-get install man-db"
      ],
      "metadata": {
        "id": "OwuOBDfipUW1"
      },
      "execution_count": null,
      "outputs": []
    },
    {
      "cell_type": "code",
      "source": [
        "#!export MANPATH=/usr/share/man/man1:$MANPATH"
      ],
      "metadata": {
        "id": "iAUFEwVTpyvd"
      },
      "execution_count": null,
      "outputs": []
    },
    {
      "cell_type": "markdown",
      "source": [
        "# Create the internsctl Script"
      ],
      "metadata": {
        "id": "sFvGH5NwTyS6"
      }
    },
    {
      "cell_type": "code",
      "source": [
        "%%bash\n",
        "\n",
        "cat <<'EOF' > internsctl.sh\n",
        "\n",
        "function display_manual() {\n",
        "    echo \"MANUAL PAGE FOR INTERNSCTL COMMAND\"\n",
        "    echo \"---------------------------------\"\n",
        "    echo \"The 'internsctl' command is a custom Linux command that provides various functionalities.\"\n",
        "    echo \"\"\n",
        "}\n",
        "\n",
        "function display_help() {\n",
        "    echo \"USAGE:\"\n",
        "    echo \"  internsctl [OPTIONS]\"\n",
        "    echo \"\"\n",
        "\n",
        "    echo \"OPTIONS:\"\n",
        "    echo \"  --help                 Display help and usage examples\"\n",
        "    echo \"  --version              Display command version\"\n",
        "    echo \"  cpu getinfo            Get CPU information\"\n",
        "    echo \"  memory getinfo         Get memory information\"\n",
        "    echo \"  user create <username> Create a new user with the given username\"\n",
        "    echo \"  user list              List all regular users\"\n",
        "    echo \"  user list --sudo-only  List all users with sudo permissions\"\n",
        "    echo \"  file getinfo <file-name>              Get information about a file\"\n",
        "    echo \"  file getinfo [options] <file-name>    Get specific information about a file\"\n",
        "    echo \"\"\n",
        "    echo \"EXAMPLES:\"\n",
        "    echo \"  internsctl --help                # Display help and usage examples\"\n",
        "    echo \"  internsctl --version             # Display command version\"\n",
        "    echo \"  internsctl cpu getinfo           # Get CPU information\"\n",
        "    echo \"  internsctl memory getinfo        # Get memory information\"\n",
        "    echo \"  internsctl user create john      # Create a new user with username 'john'\"\n",
        "    echo \"  internsctl user list             # List all regular users\"\n",
        "    echo \"  internsctl user list --sudo-only # List all users with sudo permissions\"\n",
        "    echo \"  internsctl file getinfo myfile   # Get information about the file 'myfile'\"\n",
        "    echo \"  internsctl file getinfo --size myfile    # Get the size of the file 'myfile'\"\n",
        "    echo \"  internsctl file getinfo --permissions myfile   # Get file permissions for 'myfile'\"\n",
        "    echo \"  internsctl file getinfo --owner myfile    # Get the owner of the file 'myfile'\"\n",
        "    echo \"  internsctl file getinfo --last-modified myfile    # Get the last modified time of 'myfile'\"\n",
        "}\n",
        "\n",
        "function display_version() {\n",
        "    echo \"internsctl version v0.1.0\"\n",
        "}\n",
        "\n",
        "case \"$1\" in\n",
        "    --help)\n",
        "        display_help\n",
        "        ;;\n",
        "    --version)\n",
        "        display_version\n",
        "        ;;\n",
        "    cpu)\n",
        "        echo \"CPU Information:\"\n",
        "        lscpu\n",
        "        ;;\n",
        "    memory)\n",
        "        echo \"Memory Information:\"\n",
        "        free\n",
        "        ;;\n",
        "    user)\n",
        "         if [ \"$2\" == \"create\" ]; then\n",
        "            if [ -z \"$3\" ]; then\n",
        "                echo \"Error: Please provide a username to create.\"\n",
        "            else\n",
        "                useradd \"$3\"\n",
        "            fi\n",
        "        elif [ \"$2\" == \"list\" ]; then\n",
        "            if [ \"$3\" == \"--sudo-only\" ]; then\n",
        "                echo \"Users with sudo permissions:\"\n",
        "                grep -E 'sudo|admin' /etc/group | cut -d: -f4\n",
        "            else\n",
        "                echo \"Regular users:\"\n",
        "                cut -d: -f1 /etc/passwd\n",
        "            fi\n",
        "        else\n",
        "            echo \"Invalid usage. See 'internsctl --help' for usage instructions.\"\n",
        "        fi\n",
        "        ;;\n",
        "    file)\n",
        "        if [ \"$2\" == \"getinfo\" ]; then\n",
        "            if [ \"$3\" ]; then\n",
        "                filename=\"$3\"\n",
        "                if [ -f \"$filename\" ]; then\n",
        "                    if [ $# -eq 3 ]; then\n",
        "                        echo \"File Information for $filename:\"\n",
        "                        echo \"File: $filename\"\n",
        "                        echo \"Access: $(stat -c %A \"$filename\")\"\n",
        "                        echo \"Size(B): $(stat -c %s \"$filename\")\"\n",
        "                        echo \"Owner: $(stat -c %U \"$filename\")\"\n",
        "                        echo \"Modify: $(stat -c %y \"$filename\")\"\n",
        "                    else\n",
        "                        shift 3\n",
        "                        while [ $# -gt 0 ]; do\n",
        "                            case \"$1\" in\n",
        "                                --size|-s)\n",
        "                                    echo \"Size(B): $(stat -c %s \"$filename\")\"\n",
        "                                    ;;\n",
        "                                --permissions|-p)\n",
        "                                    echo \"Access: $(stat -c %A \"$filename\")\"\n",
        "                                    ;;\n",
        "                                --owner|-o)\n",
        "                                    echo \"Owner: $(stat -c %U \"$filename\")\"\n",
        "                                    ;;\n",
        "                                --last-modified|-m)\n",
        "                                    echo \"Modify: $(stat -c %y \"$filename\")\"\n",
        "                                    ;;\n",
        "                                *)\n",
        "                                    echo \"Invalid option: $1\"\n",
        "                                    ;;\n",
        "                            esac\n",
        "                            shift\n",
        "                        done\n",
        "                    fi\n",
        "                else\n",
        "                    echo \"Error: File '$filename' not found.\"\n",
        "                fi\n",
        "            else\n",
        "                echo \"Error: Please provide a file name.\"\n",
        "            fi\n",
        "        else\n",
        "            echo \"Invalid usage. See 'internsctl --help' for usage instructions.\"\n",
        "        fi\n",
        "        ;;\n",
        "    *)\n",
        "        echo \"Invalid command: $1\"\n",
        "        ;;\n",
        "esac\n",
        "\n",
        "EOF\n",
        "\n",
        "\n",
        "# Make the script executable\n",
        "chmod +x internsctl.sh\n",
        "\n",
        "mv internsctl.sh /usr/local/bin/internsctl"
      ],
      "metadata": {
        "id": "EJENRNR3T1-H"
      },
      "execution_count": null,
      "outputs": []
    },
    {
      "cell_type": "markdown",
      "source": [
        "# Create the Manual Page File:"
      ],
      "metadata": {
        "id": "nZBvMtATnRyM"
      }
    },
    {
      "cell_type": "code",
      "source": [
        "'''\n",
        "%%bash\n",
        "\n",
        "#Create the Manual Page File internsctl.1\n",
        "cat <<EOF > internsctl.1\n",
        ".TH INTERNSCTL 1 \"August 2023\" \"Version 0.1.0\"\n",
        ".SH NAME\n",
        "internsctl \\- A custom Linux command for various functionalities\n",
        ".SH SYNOPSIS\n",
        ".B internsctl\n",
        ".RB [ \\-\\-help | \\-\\-version | cpu | memory | user ]\n",
        ".RB [ cpu \\fIgetinfo\\fP | memory \\fIgetinfo\\fP ]\n",
        ".RB [ user \\fIcreate\\fP \\fI<username>\\fP | user \\fIlist\\fP [ \\-\\-sudo\\-only ] ]\n",
        ".RB [ file \\fIgetinfo\\fP \\fI<file\\-name>\\fP | file \\fIgetinfo\\fP [ \\-\\-size | \\-\\-permissions | \\-\\-owner | \\-\\-last\\-modified ] \\fI<file\\-name>\\fP ]\n",
        ".SH DESCRIPTION\n",
        "The \\fBinternsctl\\fP command provides various functionalities for system information and user management.\n",
        ".SH OPTIONS\n",
        ".TP\n",
        "\\fB\\-\\-help\\fP\n",
        "Display help and usage examples.\n",
        ".TP\n",
        "\\fB\\-\\-version\\fP\n",
        "Display command version.\n",
        ".SH COMMANDS\n",
        ".TP\n",
        "\\fBcpu\\fP\n",
        "Get CPU information.\n",
        ".TP\n",
        "\\fBmemory\\fP\n",
        "Get memory information.\n",
        ".TP\n",
        "\\fBuser create <username>\\fP\n",
        "Create a new user with the given username.\n",
        ".TP\n",
        "\\fBuser list\\fP\n",
        "List all regular users.\n",
        ".TP\n",
        "\\fBuser list \\-\\-sudo\\-only\\fP\n",
        "List all users with sudo permissions.\n",
        ".TP\n",
        "\\fBfile getinfo <file\\-name>\\fP\n",
        "Get information about a file.\n",
        ".TP\n",
        "\\fBfile getinfo \\-\\-size <file\\-name>\\fP\n",
        "Get the size of a file.\n",
        ".TP\n",
        "\\fBfile getinfo \\-\\-permissions <file\\-name>\\fP\n",
        "Get file permissions for a file.\n",
        ".TP\n",
        "\\fBfile getinfo \\-\\-owner <file\\-name>\\fP\n",
        "Get the owner of a file.\n",
        ".TP\n",
        "\\fBfile getinfo \\-\\-last\\-modified <file\\-name>\\fP\n",
        "Get the last modified time of a file.\n",
        ".SH EXAMPLES\n",
        "Show usage examples of the \\fBinternsctl\\fP command.\n",
        "EOF\n",
        "\n",
        "#Install the Manual Page\n",
        "sudo install -g 0 -o 0 -m 0644 internsctl.1 /usr/share/man/man1/\n",
        "\n",
        "#Update the Manual Database so that the man command can find your manual page\n",
        "sudo mandb\n",
        "'''"
      ],
      "metadata": {
        "colab": {
          "base_uri": "https://localhost:8080/",
          "height": 157
        },
        "id": "im-7XR01nTti",
        "outputId": "ce31040d-fdcf-4e3b-f016-231ca0297cb3"
      },
      "execution_count": null,
      "outputs": [
        {
          "output_type": "execute_result",
          "data": {
            "text/plain": [
              "'\\n%%bash \\n\\n#Create the Manual Page File internsctl.1\\ncat <<EOF > internsctl.1\\n.TH INTERNSCTL 1 \"August 2023\" \"Version 0.1.0\"\\n.SH NAME\\ninternsctl \\\\- A custom Linux command for various functionalities\\n.SH SYNOPSIS\\n.B internsctl\\n.RB [ \\\\-\\\\-help | \\\\-\\\\-version | cpu | memory | user ]\\n.RB [ cpu \\x0cIgetinfo\\x0cP | memory \\x0cIgetinfo\\x0cP ]\\n.RB [ user \\x0cIcreate\\x0cP \\x0cI<username>\\x0cP | user \\x0cIlist\\x0cP [ \\\\-\\\\-sudo\\\\-only ] ]\\n.RB [ file \\x0cIgetinfo\\x0cP \\x0cI<file\\\\-name>\\x0cP | file \\x0cIgetinfo\\x0cP [ \\\\-\\\\-size | \\\\-\\\\-permissions | \\\\-\\\\-owner | \\\\-\\\\-last\\\\-modified ] \\x0cI<file\\\\-name>\\x0cP ]\\n.SH DESCRIPTION\\nThe \\x0cBinternsctl\\x0cP command provides various functionalities for system information and user management.\\n.SH OPTIONS\\n.TP\\n\\x0cB\\\\-\\\\-help\\x0cP\\nDisplay help and usage examples.\\n.TP\\n\\x0cB\\\\-\\\\-version\\x0cP\\nDisplay command version.\\n.SH COMMANDS\\n.TP\\n\\x0cBcpu\\x0cP\\nGet CPU information.\\n.TP\\n\\x0cBmemory\\x0cP\\nGet memory information.\\n.TP\\n\\x0cBuser create <username>\\x0cP\\nCreate a new user with the given username.\\n.TP\\n\\x0cBuser list\\x0cP\\nList all regular users.\\n.TP\\n\\x0cBuser list \\\\-\\\\-sudo\\\\-only\\x0cP\\nList all users with sudo permissions.\\n.TP\\n\\x0cBfile getinfo <file\\\\-name>\\x0cP\\nGet information about a file.\\n.TP\\n\\x0cBfile getinfo \\\\-\\\\-size <file\\\\-name>\\x0cP\\nGet the size of a file.\\n.TP\\n\\x0cBfile getinfo \\\\-\\\\-permissions <file\\\\-name>\\x0cP\\nGet file permissions for a file.\\n.TP\\n\\x0cBfile getinfo \\\\-\\\\-owner <file\\\\-name>\\x0cP\\nGet the owner of a file.\\n.TP\\n\\x0cBfile getinfo \\\\-\\\\-last\\\\-modified <file\\\\-name>\\x0cP\\nGet the last modified time of a file.\\n.SH EXAMPLES\\nShow usage examples of the \\x0cBinternsctl\\x0cP command.\\nEOF\\n\\n#Install the Manual Page\\nsudo install -g 0 -o 0 -m 0644 internsctl.1 /usr/share/man/man1/\\n\\n#Update the Manual Database so that the man command can find your manual page\\nsudo mandb\\n'"
            ],
            "application/vnd.google.colaboratory.intrinsic+json": {
              "type": "string"
            }
          },
          "metadata": {},
          "execution_count": 106
        }
      ]
    },
    {
      "cell_type": "code",
      "source": [
        "!echo $PATH"
      ],
      "metadata": {
        "colab": {
          "base_uri": "https://localhost:8080/"
        },
        "id": "0FK6M9MnkhFS",
        "outputId": "63255f32-294c-4fc9-8821-acde649e1f5e"
      },
      "execution_count": null,
      "outputs": [
        {
          "output_type": "stream",
          "name": "stdout",
          "text": [
            "/opt/bin:/usr/local/nvidia/bin:/usr/local/cuda/bin:/usr/local/sbin:/usr/local/bin:/usr/sbin:/usr/bin:/sbin:/bin:/tools/node/bin:/tools/google-cloud-sdk/bin\n"
          ]
        }
      ]
    },
    {
      "cell_type": "markdown",
      "source": [
        "# Section A\n",
        "## 1. man internsctl\n",
        "## 2. internsctl --help\n",
        "## 3. internsctl --version\n"
      ],
      "metadata": {
        "id": "OGuUiHCEsO2d"
      }
    },
    {
      "cell_type": "code",
      "source": [
        "#!sudo unminimize"
      ],
      "metadata": {
        "id": "ozNQEWZXruUe"
      },
      "execution_count": null,
      "outputs": []
    },
    {
      "cell_type": "code",
      "source": [
        "#!man internsctl"
      ],
      "metadata": {
        "id": "UoTP5AOwmM5b"
      },
      "execution_count": null,
      "outputs": []
    },
    {
      "cell_type": "code",
      "source": [
        "!internsctl --help"
      ],
      "metadata": {
        "colab": {
          "base_uri": "https://localhost:8080/"
        },
        "id": "ek2nw2eRY13K",
        "outputId": "c898637f-b80a-4874-bd71-fbf347a75da9"
      },
      "execution_count": null,
      "outputs": [
        {
          "output_type": "stream",
          "name": "stdout",
          "text": [
            "USAGE:\n",
            "  internsctl [OPTIONS]\n",
            "\n",
            "OPTIONS:\n",
            "  --help                 Display help and usage examples\n",
            "  --version              Display command version\n",
            "  cpu getinfo            Get CPU information\n",
            "  memory getinfo         Get memory information\n",
            "  user create <username> Create a new user with the given username\n",
            "  user list              List all regular users\n",
            "  user list --sudo-only  List all users with sudo permissions\n",
            "  file getinfo <file-name>              Get information about a file\n",
            "  file getinfo [options] <file-name>    Get specific information about a file\n",
            "\n",
            "EXAMPLES:\n",
            "  internsctl --help                # Display help and usage examples\n",
            "  internsctl --version             # Display command version\n",
            "  internsctl cpu getinfo           # Get CPU information\n",
            "  internsctl memory getinfo        # Get memory information\n",
            "  internsctl user create john      # Create a new user with username 'john'\n",
            "  internsctl user list             # List all regular users\n",
            "  internsctl user list --sudo-only # List all users with sudo permissions\n",
            "  internsctl file getinfo myfile   # Get information about the file 'myfile'\n",
            "  internsctl file getinfo --size myfile    # Get the size of the file 'myfile'\n",
            "  internsctl file getinfo --permissions myfile   # Get file permissions for 'myfile'\n",
            "  internsctl file getinfo --owner myfile    # Get the owner of the file 'myfile'\n",
            "  internsctl file getinfo --last-modified myfile    # Get the last modified time of 'myfile'\n"
          ]
        }
      ]
    },
    {
      "cell_type": "code",
      "source": [
        "# Test the help command\n",
        "#!internsctl --help\n",
        "\n",
        "# Test the version command\n",
        "!internsctl --version"
      ],
      "metadata": {
        "colab": {
          "base_uri": "https://localhost:8080/"
        },
        "id": "7OnZYhigZYY5",
        "outputId": "07ab252d-9c1e-485e-e14c-800f8559f671"
      },
      "execution_count": null,
      "outputs": [
        {
          "output_type": "stream",
          "name": "stdout",
          "text": [
            "internsctl version v0.1.0\n"
          ]
        }
      ]
    },
    {
      "cell_type": "markdown",
      "source": [
        "# Section B (Part1)\n",
        "## 1. get cpu information\n",
        "## 2. get memory information\n",
        "\n"
      ],
      "metadata": {
        "id": "gg-CoGNWs9KZ"
      }
    },
    {
      "cell_type": "code",
      "source": [
        "!internsctl cpu getinfo"
      ],
      "metadata": {
        "colab": {
          "base_uri": "https://localhost:8080/"
        },
        "id": "7XWz2RR4fyFC",
        "outputId": "a1aa8636-b9f8-4703-c365-e8872d3e62b7"
      },
      "execution_count": null,
      "outputs": [
        {
          "output_type": "stream",
          "name": "stdout",
          "text": [
            "CPU Information:\n",
            "Architecture:            x86_64\n",
            "  CPU op-mode(s):        32-bit, 64-bit\n",
            "  Address sizes:         46 bits physical, 48 bits virtual\n",
            "  Byte Order:            Little Endian\n",
            "CPU(s):                  2\n",
            "  On-line CPU(s) list:   0,1\n",
            "Vendor ID:               GenuineIntel\n",
            "  Model name:            Intel(R) Xeon(R) CPU @ 2.20GHz\n",
            "    CPU family:          6\n",
            "    Model:               79\n",
            "    Thread(s) per core:  2\n",
            "    Core(s) per socket:  1\n",
            "    Socket(s):           1\n",
            "    Stepping:            0\n",
            "    BogoMIPS:            4400.38\n",
            "    Flags:               fpu vme de pse tsc msr pae mce cx8 apic sep mtrr pge mc\n",
            "                         a cmov pat pse36 clflush mmx fxsr sse sse2 ss ht syscal\n",
            "                         l nx pdpe1gb rdtscp lm constant_tsc rep_good nopl xtopo\n",
            "                         logy nonstop_tsc cpuid tsc_known_freq pni pclmulqdq sss\n",
            "                         e3 fma cx16 pcid sse4_1 sse4_2 x2apic movbe popcnt aes \n",
            "                         xsave avx f16c rdrand hypervisor lahf_lm abm 3dnowprefe\n",
            "                         tch invpcid_single ssbd ibrs ibpb stibp fsgsbase tsc_ad\n",
            "                         just bmi1 hle avx2 smep bmi2 erms invpcid rtm rdseed ad\n",
            "                         x smap xsaveopt arat md_clear arch_capabilities\n",
            "Virtualization features: \n",
            "  Hypervisor vendor:     KVM\n",
            "  Virtualization type:   full\n",
            "Caches (sum of all):     \n",
            "  L1d:                   32 KiB (1 instance)\n",
            "  L1i:                   32 KiB (1 instance)\n",
            "  L2:                    256 KiB (1 instance)\n",
            "  L3:                    55 MiB (1 instance)\n",
            "NUMA:                    \n",
            "  NUMA node(s):          1\n",
            "  NUMA node0 CPU(s):     0,1\n",
            "Vulnerabilities:         \n",
            "  Itlb multihit:         Not affected\n",
            "  L1tf:                  Mitigation; PTE Inversion\n",
            "  Mds:                   Vulnerable; SMT Host state unknown\n",
            "  Meltdown:              Vulnerable\n",
            "  Mmio stale data:       Vulnerable\n",
            "  Retbleed:              Vulnerable\n",
            "  Spec store bypass:     Vulnerable\n",
            "  Spectre v1:            Vulnerable: __user pointer sanitization and usercopy ba\n",
            "                         rriers only; no swapgs barriers\n",
            "  Spectre v2:            Vulnerable, IBPB: disabled, STIBP: disabled, PBRSB-eIBR\n",
            "                         S: Not affected\n",
            "  Srbds:                 Not affected\n",
            "  Tsx async abort:       Vulnerable\n"
          ]
        }
      ]
    },
    {
      "cell_type": "code",
      "source": [
        "!internsctl memory getinfo"
      ],
      "metadata": {
        "colab": {
          "base_uri": "https://localhost:8080/"
        },
        "id": "qPQfOIGqf9Z5",
        "outputId": "51d3044f-ff5b-45d3-baa9-9f5f1f86fb76"
      },
      "execution_count": null,
      "outputs": [
        {
          "output_type": "stream",
          "name": "stdout",
          "text": [
            "Memory Information:\n",
            "               total        used        free      shared  buff/cache   available\n",
            "Mem:        13294252      659064     8993872        5284     3641316    12330852\n",
            "Swap:              0           0           0\n"
          ]
        }
      ]
    },
    {
      "cell_type": "markdown",
      "source": [
        "# Section B (Part2)\n",
        "## create a new user on server\n",
        "\n",
        "*    create new user\n",
        "\n",
        "*   list regular users present on server\n",
        "\n",
        "*   list all users with sudo permissions on server\n",
        "\n"
      ],
      "metadata": {
        "id": "3X4ab94Ftjkj"
      }
    },
    {
      "cell_type": "code",
      "source": [
        "#%%bash\n",
        "#sudo useradd aneeta"
      ],
      "metadata": {
        "id": "aK2z9fhmwUJC"
      },
      "execution_count": null,
      "outputs": []
    },
    {
      "cell_type": "code",
      "source": [
        "#!internsctl user create aneeta\n",
        "#!internsctl user create sunita\n",
        "#!internsctl user create neelam"
      ],
      "metadata": {
        "id": "Wqosb4jlBMmP"
      },
      "execution_count": null,
      "outputs": []
    },
    {
      "cell_type": "code",
      "source": [
        "!internsctl user list"
      ],
      "metadata": {
        "colab": {
          "base_uri": "https://localhost:8080/"
        },
        "id": "v-vl-VVCB6hW",
        "outputId": "50164beb-977d-48dd-d485-e95832a76251"
      },
      "execution_count": null,
      "outputs": [
        {
          "output_type": "stream",
          "name": "stdout",
          "text": [
            "Regular users:\n",
            "root\n",
            "daemon\n",
            "bin\n",
            "sys\n",
            "sync\n",
            "games\n",
            "man\n",
            "lp\n",
            "mail\n",
            "news\n",
            "uucp\n",
            "proxy\n",
            "www-data\n",
            "backup\n",
            "list\n",
            "irc\n",
            "gnats\n",
            "nobody\n",
            "_apt\n",
            "systemd-network\n",
            "systemd-resolve\n",
            "messagebus\n",
            "aneeta\n",
            "sunita\n",
            "neelam\n"
          ]
        }
      ]
    },
    {
      "cell_type": "code",
      "source": [
        "!internsctl user list --sudo-only\n",
        "# to grant permission in linux environment\n",
        "#sudo usermod -aG sudo username"
      ],
      "metadata": {
        "colab": {
          "base_uri": "https://localhost:8080/"
        },
        "id": "T12O6ppgCf4Y",
        "outputId": "a505ca95-8ff3-4190-f48b-8d18a4618f5d"
      },
      "execution_count": null,
      "outputs": [
        {
          "output_type": "stream",
          "name": "stdout",
          "text": [
            "Users with sudo permissions:\n",
            "\n"
          ]
        }
      ]
    },
    {
      "cell_type": "markdown",
      "source": [
        "# Section B (Part3)\n",
        "## 1. get file information\n",
        "## 2. specific information\n",
        "\n"
      ],
      "metadata": {
        "id": "yAoMDGOOuu8s"
      }
    },
    {
      "cell_type": "code",
      "source": [
        "#!touch hello.txt\n",
        "#!echo \"Hello my name is Aneeta\" > hello.txt or\n",
        "#!echo \"Hello my name is Aneeta\" > hello.txt\n",
        "!internsctl file getinfo hello.txt"
      ],
      "metadata": {
        "colab": {
          "base_uri": "https://localhost:8080/"
        },
        "id": "JtiLsVnHJ52n",
        "outputId": "fbdadd87-332c-4cb3-e0ee-6c4fc58edd55"
      },
      "execution_count": null,
      "outputs": [
        {
          "output_type": "stream",
          "name": "stdout",
          "text": [
            "File Information for hello.txt:\n",
            "File: hello.txt\n",
            "Access: -rw-r--r--\n",
            "Size(B): 24\n",
            "Owner: root\n",
            "Modify: 2023-08-03 01:52:56.431642126 +0000\n"
          ]
        }
      ]
    },
    {
      "cell_type": "code",
      "source": [
        "!internsctl file getinfo hello.txt -s\n",
        "#!internsctl file getinfo hello.txt --size\n"
      ],
      "metadata": {
        "colab": {
          "base_uri": "https://localhost:8080/"
        },
        "id": "qh-Ccf6gQTDe",
        "outputId": "c5990525-f9c1-473f-be6c-8943cf89af60"
      },
      "execution_count": null,
      "outputs": [
        {
          "output_type": "stream",
          "name": "stdout",
          "text": [
            "Size(B): 24\n"
          ]
        }
      ]
    },
    {
      "cell_type": "code",
      "source": [
        "!internsctl file getinfo hello.txt --permissions"
      ],
      "metadata": {
        "colab": {
          "base_uri": "https://localhost:8080/"
        },
        "id": "YnfR9JXij5Wo",
        "outputId": "3a473ce2-983e-4e7b-e28c-4d449551fa77"
      },
      "execution_count": null,
      "outputs": [
        {
          "output_type": "stream",
          "name": "stdout",
          "text": [
            "Access: -rw-r--r--\n"
          ]
        }
      ]
    },
    {
      "cell_type": "code",
      "source": [
        "!internsctl file getinfo hello.txt --owner"
      ],
      "metadata": {
        "colab": {
          "base_uri": "https://localhost:8080/"
        },
        "id": "C3wq46Xlj_a2",
        "outputId": "b1308516-913a-4078-cd35-9ab7ae2102b9"
      },
      "execution_count": null,
      "outputs": [
        {
          "output_type": "stream",
          "name": "stdout",
          "text": [
            "Owner: root\n"
          ]
        }
      ]
    },
    {
      "cell_type": "code",
      "source": [
        "!internsctl file getinfo hello.txt --last-modified"
      ],
      "metadata": {
        "colab": {
          "base_uri": "https://localhost:8080/"
        },
        "id": "5CA-xmPRkvFm",
        "outputId": "f157ecf4-2a3d-4734-a55e-852c4b7e4d3e"
      },
      "execution_count": null,
      "outputs": [
        {
          "output_type": "stream",
          "name": "stdout",
          "text": [
            "Modify: 2023-08-03 01:52:56.431642126 +0000\n"
          ]
        }
      ]
    }
  ]
}